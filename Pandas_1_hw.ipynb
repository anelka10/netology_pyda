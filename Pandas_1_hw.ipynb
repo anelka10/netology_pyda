{
 "cells": [
  {
   "cell_type": "markdown",
   "metadata": {},
   "source": [
    "# Задание 1\n",
    "Скачайте с сайта https://grouplens.org/datasets/movielens/ датасет любого размера. Определите какому фильму было выставлено больше всего оценок 5.0.\n",
    "\n",
    "Скачала MovieLens 20M Dataset"
   ]
  },
  {
   "cell_type": "code",
   "execution_count": 5,
   "metadata": {},
   "outputs": [],
   "source": [
    "import pandas as pd"
   ]
  },
  {
   "cell_type": "code",
   "execution_count": 21,
   "metadata": {},
   "outputs": [
    {
     "data": {
      "text/html": [
       "<div>\n",
       "<style scoped>\n",
       "    .dataframe tbody tr th:only-of-type {\n",
       "        vertical-align: middle;\n",
       "    }\n",
       "\n",
       "    .dataframe tbody tr th {\n",
       "        vertical-align: top;\n",
       "    }\n",
       "\n",
       "    .dataframe thead th {\n",
       "        text-align: right;\n",
       "    }\n",
       "</style>\n",
       "<table border=\"1\" class=\"dataframe\">\n",
       "  <thead>\n",
       "    <tr style=\"text-align: right;\">\n",
       "      <th></th>\n",
       "      <th>userId</th>\n",
       "      <th>movieId</th>\n",
       "      <th>rating</th>\n",
       "      <th>timestamp</th>\n",
       "    </tr>\n",
       "  </thead>\n",
       "  <tbody>\n",
       "    <tr>\n",
       "      <th>0</th>\n",
       "      <td>1</td>\n",
       "      <td>2</td>\n",
       "      <td>3.5</td>\n",
       "      <td>1112486027</td>\n",
       "    </tr>\n",
       "    <tr>\n",
       "      <th>1</th>\n",
       "      <td>1</td>\n",
       "      <td>29</td>\n",
       "      <td>3.5</td>\n",
       "      <td>1112484676</td>\n",
       "    </tr>\n",
       "    <tr>\n",
       "      <th>2</th>\n",
       "      <td>1</td>\n",
       "      <td>32</td>\n",
       "      <td>3.5</td>\n",
       "      <td>1112484819</td>\n",
       "    </tr>\n",
       "    <tr>\n",
       "      <th>3</th>\n",
       "      <td>1</td>\n",
       "      <td>47</td>\n",
       "      <td>3.5</td>\n",
       "      <td>1112484727</td>\n",
       "    </tr>\n",
       "    <tr>\n",
       "      <th>4</th>\n",
       "      <td>1</td>\n",
       "      <td>50</td>\n",
       "      <td>3.5</td>\n",
       "      <td>1112484580</td>\n",
       "    </tr>\n",
       "  </tbody>\n",
       "</table>\n",
       "</div>"
      ],
      "text/plain": [
       "   userId  movieId  rating   timestamp\n",
       "0       1        2     3.5  1112486027\n",
       "1       1       29     3.5  1112484676\n",
       "2       1       32     3.5  1112484819\n",
       "3       1       47     3.5  1112484727\n",
       "4       1       50     3.5  1112484580"
      ]
     },
     "execution_count": 21,
     "metadata": {},
     "output_type": "execute_result"
    }
   ],
   "source": [
    "five_rate = pd.read_csv(r'C:\\Users\\AsusTeck\\Desktop\\ratings.csv')\n",
    "five_rate.head()"
   ]
  },
  {
   "cell_type": "code",
   "execution_count": 22,
   "metadata": {},
   "outputs": [
    {
     "data": {
      "text/html": [
       "<div>\n",
       "<style scoped>\n",
       "    .dataframe tbody tr th:only-of-type {\n",
       "        vertical-align: middle;\n",
       "    }\n",
       "\n",
       "    .dataframe tbody tr th {\n",
       "        vertical-align: top;\n",
       "    }\n",
       "\n",
       "    .dataframe thead th {\n",
       "        text-align: right;\n",
       "    }\n",
       "</style>\n",
       "<table border=\"1\" class=\"dataframe\">\n",
       "  <thead>\n",
       "    <tr style=\"text-align: right;\">\n",
       "      <th></th>\n",
       "      <th>userId</th>\n",
       "      <th>movieId</th>\n",
       "      <th>rating</th>\n",
       "      <th>timestamp</th>\n",
       "    </tr>\n",
       "  </thead>\n",
       "  <tbody>\n",
       "    <tr>\n",
       "      <th>131</th>\n",
       "      <td>1</td>\n",
       "      <td>4993</td>\n",
       "      <td>5.0</td>\n",
       "      <td>1112484682</td>\n",
       "    </tr>\n",
       "    <tr>\n",
       "      <th>142</th>\n",
       "      <td>1</td>\n",
       "      <td>5952</td>\n",
       "      <td>5.0</td>\n",
       "      <td>1112484619</td>\n",
       "    </tr>\n",
       "    <tr>\n",
       "      <th>158</th>\n",
       "      <td>1</td>\n",
       "      <td>7153</td>\n",
       "      <td>5.0</td>\n",
       "      <td>1112484633</td>\n",
       "    </tr>\n",
       "    <tr>\n",
       "      <th>170</th>\n",
       "      <td>1</td>\n",
       "      <td>8507</td>\n",
       "      <td>5.0</td>\n",
       "      <td>1094786027</td>\n",
       "    </tr>\n",
       "    <tr>\n",
       "      <th>176</th>\n",
       "      <td>2</td>\n",
       "      <td>62</td>\n",
       "      <td>5.0</td>\n",
       "      <td>974820598</td>\n",
       "    </tr>\n",
       "  </tbody>\n",
       "</table>\n",
       "</div>"
      ],
      "text/plain": [
       "     userId  movieId  rating   timestamp\n",
       "131       1     4993     5.0  1112484682\n",
       "142       1     5952     5.0  1112484619\n",
       "158       1     7153     5.0  1112484633\n",
       "170       1     8507     5.0  1094786027\n",
       "176       2       62     5.0   974820598"
      ]
     },
     "execution_count": 22,
     "metadata": {},
     "output_type": "execute_result"
    }
   ],
   "source": [
    "only_five = five_rate[five_rate['rating'] == 5.0] #массив, где рейтинг только 5.0\n",
    "only_five.head()"
   ]
  },
  {
   "cell_type": "code",
   "execution_count": 30,
   "metadata": {},
   "outputs": [
    {
     "data": {
      "text/plain": [
       "318"
      ]
     },
     "execution_count": 30,
     "metadata": {},
     "output_type": "execute_result"
    }
   ],
   "source": [
    "#Логика - у кого больше всего оценок 5.0, то у того и сумма рейтингов будет больше всего\n",
    "(only_five[['movieId', 'rating']].groupby('movieId').sum().sort_values('rating', ascending=False)).index[0] "
   ]
  },
  {
   "cell_type": "markdown",
   "metadata": {},
   "source": [
    "# Задание 2\n",
    "По данным файла power.csv посчитайте суммарное потребление стран Прибалтики (Латвия, Литва и Эстония) категорий 4, 12 и 21 за период с 2005 по 2010 года. Не учитывайте в расчетах отрицательные значения quantity."
   ]
  },
  {
   "cell_type": "code",
   "execution_count": 2,
   "metadata": {},
   "outputs": [],
   "source": [
    "import pandas as pd"
   ]
  },
  {
   "cell_type": "code",
   "execution_count": 3,
   "metadata": {},
   "outputs": [
    {
     "data": {
      "text/html": [
       "<div>\n",
       "<style scoped>\n",
       "    .dataframe tbody tr th:only-of-type {\n",
       "        vertical-align: middle;\n",
       "    }\n",
       "\n",
       "    .dataframe tbody tr th {\n",
       "        vertical-align: top;\n",
       "    }\n",
       "\n",
       "    .dataframe thead th {\n",
       "        text-align: right;\n",
       "    }\n",
       "</style>\n",
       "<table border=\"1\" class=\"dataframe\">\n",
       "  <thead>\n",
       "    <tr style=\"text-align: right;\">\n",
       "      <th></th>\n",
       "      <th>country</th>\n",
       "      <th>year</th>\n",
       "      <th>quantity</th>\n",
       "      <th>category</th>\n",
       "    </tr>\n",
       "  </thead>\n",
       "  <tbody>\n",
       "    <tr>\n",
       "      <th>0</th>\n",
       "      <td>Austria</td>\n",
       "      <td>1996</td>\n",
       "      <td>5.0</td>\n",
       "      <td>1</td>\n",
       "    </tr>\n",
       "    <tr>\n",
       "      <th>1</th>\n",
       "      <td>Austria</td>\n",
       "      <td>1995</td>\n",
       "      <td>17.0</td>\n",
       "      <td>1</td>\n",
       "    </tr>\n",
       "    <tr>\n",
       "      <th>2</th>\n",
       "      <td>Belgium</td>\n",
       "      <td>2014</td>\n",
       "      <td>0.0</td>\n",
       "      <td>1</td>\n",
       "    </tr>\n",
       "    <tr>\n",
       "      <th>3</th>\n",
       "      <td>Belgium</td>\n",
       "      <td>2013</td>\n",
       "      <td>0.0</td>\n",
       "      <td>1</td>\n",
       "    </tr>\n",
       "    <tr>\n",
       "      <th>4</th>\n",
       "      <td>Belgium</td>\n",
       "      <td>2012</td>\n",
       "      <td>35.0</td>\n",
       "      <td>1</td>\n",
       "    </tr>\n",
       "  </tbody>\n",
       "</table>\n",
       "</div>"
      ],
      "text/plain": [
       "   country  year  quantity  category\n",
       "0  Austria  1996       5.0         1\n",
       "1  Austria  1995      17.0         1\n",
       "2  Belgium  2014       0.0         1\n",
       "3  Belgium  2013       0.0         1\n",
       "4  Belgium  2012      35.0         1"
      ]
     },
     "execution_count": 3,
     "metadata": {},
     "output_type": "execute_result"
    }
   ],
   "source": [
    "data = pd.read_csv(r'C:\\Users\\AsusTeck\\Desktop\\power.csv')"
   ]
  },
  {
   "cell_type": "code",
   "execution_count": 11,
   "metadata": {},
   "outputs": [
    {
     "data": {
      "text/plain": [
       "array(['Latvia'], dtype=object)"
      ]
     },
     "execution_count": 11,
     "metadata": {},
     "output_type": "execute_result"
    }
   ],
   "source": [
    "data[ data['country'].str.contains('lat', case=False) ]['country'].unique()"
   ]
  },
  {
   "cell_type": "code",
   "execution_count": 12,
   "metadata": {},
   "outputs": [
    {
     "data": {
      "text/plain": [
       "array(['Lithuania'], dtype=object)"
      ]
     },
     "execution_count": 12,
     "metadata": {},
     "output_type": "execute_result"
    }
   ],
   "source": [
    "data[ data['country'].str.contains('lit', case=False) ]['country'].unique()"
   ]
  },
  {
   "cell_type": "code",
   "execution_count": 13,
   "metadata": {
    "scrolled": true
   },
   "outputs": [
    {
     "data": {
      "text/plain": [
       "array(['Estonia', 'State of Palestine', 'Timor-Leste'], dtype=object)"
      ]
     },
     "execution_count": 13,
     "metadata": {},
     "output_type": "execute_result"
    }
   ],
   "source": [
    "data[ data['country'].str.contains('est', case=False) ]['country'].unique()"
   ]
  },
  {
   "cell_type": "code",
   "execution_count": 4,
   "metadata": {},
   "outputs": [
    {
     "data": {
      "text/html": [
       "<div>\n",
       "<style scoped>\n",
       "    .dataframe tbody tr th:only-of-type {\n",
       "        vertical-align: middle;\n",
       "    }\n",
       "\n",
       "    .dataframe tbody tr th {\n",
       "        vertical-align: top;\n",
       "    }\n",
       "\n",
       "    .dataframe thead th {\n",
       "        text-align: right;\n",
       "    }\n",
       "</style>\n",
       "<table border=\"1\" class=\"dataframe\">\n",
       "  <thead>\n",
       "    <tr style=\"text-align: right;\">\n",
       "      <th></th>\n",
       "      <th>country</th>\n",
       "      <th>year</th>\n",
       "      <th>quantity</th>\n",
       "      <th>category</th>\n",
       "    </tr>\n",
       "  </thead>\n",
       "  <tbody>\n",
       "    <tr>\n",
       "      <th>10617</th>\n",
       "      <td>Estonia</td>\n",
       "      <td>2008</td>\n",
       "      <td>1.0</td>\n",
       "      <td>4</td>\n",
       "    </tr>\n",
       "    <tr>\n",
       "      <th>10618</th>\n",
       "      <td>Estonia</td>\n",
       "      <td>2007</td>\n",
       "      <td>0.0</td>\n",
       "      <td>4</td>\n",
       "    </tr>\n",
       "    <tr>\n",
       "      <th>10619</th>\n",
       "      <td>Estonia</td>\n",
       "      <td>2006</td>\n",
       "      <td>0.0</td>\n",
       "      <td>4</td>\n",
       "    </tr>\n",
       "    <tr>\n",
       "      <th>10620</th>\n",
       "      <td>Estonia</td>\n",
       "      <td>2005</td>\n",
       "      <td>1.0</td>\n",
       "      <td>4</td>\n",
       "    </tr>\n",
       "    <tr>\n",
       "      <th>11156</th>\n",
       "      <td>Lithuania</td>\n",
       "      <td>2008</td>\n",
       "      <td>1.0</td>\n",
       "      <td>4</td>\n",
       "    </tr>\n",
       "  </tbody>\n",
       "</table>\n",
       "</div>"
      ],
      "text/plain": [
       "         country  year  quantity  category\n",
       "10617    Estonia  2008       1.0         4\n",
       "10618    Estonia  2007       0.0         4\n",
       "10619    Estonia  2006       0.0         4\n",
       "10620    Estonia  2005       1.0         4\n",
       "11156  Lithuania  2008       1.0         4"
      ]
     },
     "execution_count": 4,
     "metadata": {},
     "output_type": "execute_result"
    }
   ],
   "source": [
    "filter1 = data['country'].isin(['Estonia', 'Lithuania', 'Latvia'])\n",
    "filter2 = data['category'].isin(['4', '12', '21'])\n",
    "filter3 = data['year'].isin(['2005', '2006', '2007', '2008', '2009', '2010'])\n",
    "\n",
    "data[filter1 & filter2 & filter3].head()"
   ]
  },
  {
   "cell_type": "code",
   "execution_count": 9,
   "metadata": {
    "scrolled": true
   },
   "outputs": [
    {
     "data": {
      "text/plain": [
       "240580.0"
      ]
     },
     "execution_count": 9,
     "metadata": {},
     "output_type": "execute_result"
    }
   ],
   "source": [
    "sum_quantity = data[filter1 & filter2 & filter3]\n",
    "sum_quantity = sum_quantity[sum_quantity['quantity'] > 0]['quantity'].sum()\n",
    "sum_quantity"
   ]
  },
  {
   "cell_type": "markdown",
   "metadata": {},
   "source": [
    "# Задание 3\n",
    "Выберите страницу любого сайта с табличными данными. Импортируйте таблицы в pandas dataframe."
   ]
  },
  {
   "cell_type": "code",
   "execution_count": 5,
   "metadata": {},
   "outputs": [
    {
     "data": {
      "text/plain": [
       "[            0          1        2              3              4        5   \\\n",
       " 0        Тикер      Время     Цена  Объем за день  Кол-во сделок      NaN   \n",
       " 1       сделки  пред закр     откр            мин           макс    срвзв   \n",
       " 2   Yandex clA   10:04:34  2 403.4           +4.4         +0.18%    2 399   \n",
       " 3    АЛРОСА ао   10:04:34    71.33          +0.23         +0.32%     71.1   \n",
       " 4     Аэрофлот   10:04:30   109.72          −0.28         −0.25%      110   \n",
       " 5       ВТБ ао   10:04:34  0.03871       +0.00014         +0.36%  0.03857   \n",
       " 6   ГАЗПРОМ ао   10:04:33   232.77          +0.71         +0.31%   232.06   \n",
       " 7    ГМКНорНик   10:04:34   15 500            +40         +0.26%   15 460   \n",
       " 8   ИнтерРАОао   10:04:34     4.07        +0.0085         +0.21%   4.0615   \n",
       " 9       ЛУКОЙЛ   10:04:34  5 277.5           +2.5         +0.05%    5 275   \n",
       " 10   Магнит ао   10:04:31    3 541             +6         +0.17%    3 535   \n",
       " 11         ММК   10:04:32    38.92          +0.15         +0.39%    38.77   \n",
       " 12    МосБиржа   10:04:34    93.74          +1.09         +1.18%    92.65   \n",
       " 13      МТС-ао   10:04:34    256.5          −0.35         −0.14%   256.85   \n",
       " 14     НЛМК ао   10:04:33   141.04          +0.28         +0.20%   140.76   \n",
       " 15  Новатэк ао   10:04:46  1 282.8             +2         +0.16%  1 280.8   \n",
       " 16       Полюс   10:04:34  7 211.5          −24.5         −0.34%    7 236   \n",
       " 17    Роснефть   10:04:33    407.2           +1.2         +0.30%      406   \n",
       " 18  Россети ао   10:04:34   1.1466        +0.0067         +0.59%   1.1399   \n",
       " 19    РусГидро   10:04:30   0.5475        +0.0015         +0.27%    0.546   \n",
       " 20    Сбербанк   10:04:34   219.67          +0.17         +0.08%    219.5   \n",
       " 21  Сбербанк-п   10:04:34   192.33          −0.24         −0.12%   192.57   \n",
       " 22    СевСт-ао   10:04:34    948.6           +4.6         +0.49%      944   \n",
       " 23    Сургнфгз   10:04:47   25.625         +0.075         +0.29%    25.55   \n",
       " 24  Сургнфгз-п   10:04:33   31.415         −0.045         −0.14%    31.46   \n",
       " 25  Татнфт 3ао   10:04:30    717.8           +0.2         +0.03%    717.6   \n",
       " 26  Татнфт 3ап   10:04:33    628.9             +3         +0.48%    625.9   \n",
       " 27       Тикер      Время     Цена  Объем за день  Кол-во сделок      NaN   \n",
       " 28      сделки  пред закр     откр            мин           макс    срвзв   \n",
       " \n",
       "          6        7         8         9              10           11     12  \n",
       " 0       NaN      NaN       NaN       NaN            NaN          NaN    NaN  \n",
       " 1        шт      руб       NaN       NaN            NaN          NaN    NaN  \n",
       " 2     2 410    2 403     2 410   2 405.2          1 841    4 428 037     75  \n",
       " 3      71.2    71.14     71.43     71.26        189 300   13 489 873    193  \n",
       " 4       110   109.72    110.36       110         69 160    7 606 996    141  \n",
       " 5    0.0386  0.03857  0.038775  0.038695  1 389 930 000   53 781 825    656  \n",
       " 6     232.7   232.19    232.93    232.62        462 400  107 562 269    611  \n",
       " 7    15 472   15 470    15 558    15 516          3 830   59 420 798    404  \n",
       " 8    4.0615   4.0615     4.081     4.073        935 000    3 808 035    108  \n",
       " 9     5 278    5 277   5 286.5   5 281.5          3 401   17 961 738    110  \n",
       " 10  3 544.5    3 536     3 547     3 542          2 377    8 419 706    164  \n",
       " 11    38.97   38.895        39     38.95         39 300    1 530 707     46  \n",
       " 12     93.1     93.1     94.21     93.85        739 560   69 407 537  1 532  \n",
       " 13      257    256.5    257.05    256.85          5 720    1 469 129     44  \n",
       " 14      141      141    141.34    141.16         19 320    2 726 974     96  \n",
       " 15    1 280    1 280   1 285.8   1 282.4          4 650    5 963 166     55  \n",
       " 16    7 252  7 181.5     7 267   7 241.5          3 719   26 931 587    233  \n",
       " 17    407.3      407     407.7     407.3         63 820   25 992 959    261  \n",
       " 18   1.1352   1.1352    1.1478    1.1425      4 499 000    5 139 957    193  \n",
       " 19   0.5482    0.547    0.5484    0.5476      2 864 000    1 568 374     85  \n",
       " 20    220.2   219.55    220.45    220.11      1 107 770  243 828 344    972  \n",
       " 21    192.5   192.24    192.89    192.53         61 280   11 798 396    180  \n",
       " 22      945      945     949.4     948.2          7 120    6 750 628     99  \n",
       " 23     25.6     25.6     25.68     25.64         71 200    1 825 480     52  \n",
       " 24    31.46   31.415     31.54    31.485        160 400    5 050 103    137  \n",
       " 25      718    717.6     720.8     719.4          5 170    3 719 048     49  \n",
       " 26    628.5    626.9       629     628.2         12 070    7 582 541    131  \n",
       " 27      NaN      NaN       NaN       NaN            NaN          NaN    NaN  \n",
       " 28       шт      руб       NaN       NaN            NaN          NaN    NaN  ,\n",
       "             0          1        2              3              4        5   \\\n",
       " 0        Тикер      Время     Цена  Объем за день  Кол-во сделок      NaN   \n",
       " 1       сделки  пред закр     откр            мин           макс    срвзв   \n",
       " 2   Yandex clA   10:04:34  2 403.4           +4.4         +0.18%    2 399   \n",
       " 3    АЛРОСА ао   10:04:34    71.33          +0.23         +0.32%     71.1   \n",
       " 4     Аэрофлот   10:04:30   109.72          −0.28         −0.25%      110   \n",
       " 5       ВТБ ао   10:04:34  0.03871       +0.00014         +0.36%  0.03857   \n",
       " 6   ГАЗПРОМ ао   10:04:33   232.77          +0.71         +0.31%   232.06   \n",
       " 7    ГМКНорНик   10:04:34   15 500            +40         +0.26%   15 460   \n",
       " 8   ИнтерРАОао   10:04:34     4.07        +0.0085         +0.21%   4.0615   \n",
       " 9       ЛУКОЙЛ   10:04:34  5 277.5           +2.5         +0.05%    5 275   \n",
       " 10   Магнит ао   10:04:31    3 541             +6         +0.17%    3 535   \n",
       " 11         ММК   10:04:32    38.92          +0.15         +0.39%    38.77   \n",
       " 12    МосБиржа   10:04:34    93.74          +1.09         +1.18%    92.65   \n",
       " 13      МТС-ао   10:04:34    256.5          −0.35         −0.14%   256.85   \n",
       " 14     НЛМК ао   10:04:33   141.04          +0.28         +0.20%   140.76   \n",
       " 15  Новатэк ао   10:04:46  1 282.8             +2         +0.16%  1 280.8   \n",
       " 16       Полюс   10:04:34  7 211.5          −24.5         −0.34%    7 236   \n",
       " 17    Роснефть   10:04:33    407.2           +1.2         +0.30%      406   \n",
       " 18  Россети ао   10:04:34   1.1466        +0.0067         +0.59%   1.1399   \n",
       " 19    РусГидро   10:04:30   0.5475        +0.0015         +0.27%    0.546   \n",
       " 20    Сбербанк   10:04:34   219.67          +0.17         +0.08%    219.5   \n",
       " 21  Сбербанк-п   10:04:34   192.33          −0.24         −0.12%   192.57   \n",
       " 22    СевСт-ао   10:04:34    948.6           +4.6         +0.49%      944   \n",
       " 23    Сургнфгз   10:04:47   25.625         +0.075         +0.29%    25.55   \n",
       " 24  Сургнфгз-п   10:04:33   31.415         −0.045         −0.14%    31.46   \n",
       " 25  Татнфт 3ао   10:04:30    717.8           +0.2         +0.03%    717.6   \n",
       " 26  Татнфт 3ап   10:04:33    628.9             +3         +0.48%    625.9   \n",
       " 27       Тикер      Время     Цена  Объем за день  Кол-во сделок      NaN   \n",
       " 28      сделки  пред закр     откр            мин           макс    срвзв   \n",
       " \n",
       "          6        7         8         9              10           11     12  \n",
       " 0       NaN      NaN       NaN       NaN            NaN          NaN    NaN  \n",
       " 1        шт      руб       NaN       NaN            NaN          NaN    NaN  \n",
       " 2     2 410    2 403     2 410   2 405.2          1 841    4 428 037     75  \n",
       " 3      71.2    71.14     71.43     71.26        189 300   13 489 873    193  \n",
       " 4       110   109.72    110.36       110         69 160    7 606 996    141  \n",
       " 5    0.0386  0.03857  0.038775  0.038695  1 389 930 000   53 781 825    656  \n",
       " 6     232.7   232.19    232.93    232.62        462 400  107 562 269    611  \n",
       " 7    15 472   15 470    15 558    15 516          3 830   59 420 798    404  \n",
       " 8    4.0615   4.0615     4.081     4.073        935 000    3 808 035    108  \n",
       " 9     5 278    5 277   5 286.5   5 281.5          3 401   17 961 738    110  \n",
       " 10  3 544.5    3 536     3 547     3 542          2 377    8 419 706    164  \n",
       " 11    38.97   38.895        39     38.95         39 300    1 530 707     46  \n",
       " 12     93.1     93.1     94.21     93.85        739 560   69 407 537  1 532  \n",
       " 13      257    256.5    257.05    256.85          5 720    1 469 129     44  \n",
       " 14      141      141    141.34    141.16         19 320    2 726 974     96  \n",
       " 15    1 280    1 280   1 285.8   1 282.4          4 650    5 963 166     55  \n",
       " 16    7 252  7 181.5     7 267   7 241.5          3 719   26 931 587    233  \n",
       " 17    407.3      407     407.7     407.3         63 820   25 992 959    261  \n",
       " 18   1.1352   1.1352    1.1478    1.1425      4 499 000    5 139 957    193  \n",
       " 19   0.5482    0.547    0.5484    0.5476      2 864 000    1 568 374     85  \n",
       " 20    220.2   219.55    220.45    220.11      1 107 770  243 828 344    972  \n",
       " 21    192.5   192.24    192.89    192.53         61 280   11 798 396    180  \n",
       " 22      945      945     949.4     948.2          7 120    6 750 628     99  \n",
       " 23     25.6     25.6     25.68     25.64         71 200    1 825 480     52  \n",
       " 24    31.46   31.415     31.54    31.485        160 400    5 050 103    137  \n",
       " 25      718    717.6     720.8     719.4          5 170    3 719 048     49  \n",
       " 26    628.5    626.9       629     628.2         12 070    7 582 541    131  \n",
       " 27      NaN      NaN       NaN       NaN            NaN          NaN    NaN  \n",
       " 28       шт      руб       NaN       NaN            NaN          NaN    NaN  ]"
      ]
     },
     "execution_count": 5,
     "metadata": {},
     "output_type": "execute_result"
    }
   ],
   "source": [
    "pd.read_html('https://mfd.ru/marketdata/?id=5')"
   ]
  },
  {
   "cell_type": "code",
   "execution_count": null,
   "metadata": {},
   "outputs": [],
   "source": []
  }
 ],
 "metadata": {
  "kernelspec": {
   "display_name": "Python 3",
   "language": "python",
   "name": "python3"
  },
  "language_info": {
   "codemirror_mode": {
    "name": "ipython",
    "version": 3
   },
   "file_extension": ".py",
   "mimetype": "text/x-python",
   "name": "python",
   "nbconvert_exporter": "python",
   "pygments_lexer": "ipython3",
   "version": "3.7.1"
  }
 },
 "nbformat": 4,
 "nbformat_minor": 2
}
