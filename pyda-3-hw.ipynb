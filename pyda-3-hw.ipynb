{
 "cells": [
  {
   "cell_type": "markdown",
   "metadata": {},
   "source": [
    "## Задание 1"
   ]
  },
  {
   "cell_type": "markdown",
   "metadata": {},
   "source": [
    "Дан список вида:"
   ]
  },
  {
   "cell_type": "code",
   "execution_count": 77,
   "metadata": {},
   "outputs": [],
   "source": [
    "data = [\n",
    "    [13, 25, 23, 34],\n",
    "    [45, 32, 44, 47],\n",
    "    [12, 33, 23, 95],\n",
    "    [13, 53, 34, 35]\n",
    "]"
   ]
  },
  {
   "cell_type": "code",
   "execution_count": 79,
   "metadata": {},
   "outputs": [
    {
     "name": "stdout",
     "output_type": "stream",
     "text": [
      "103\n"
     ]
    }
   ],
   "source": [
    "def sum_diagonal(data):\n",
    "    results = 0\n",
    "    for x in range(len(data)):\n",
    "        results += data[x][x]\n",
    "    print(results) \n",
    "sum_diagonal(data)"
   ]
  },
  {
   "cell_type": "markdown",
   "metadata": {},
   "source": [
    "Напишите функцию, которая возвращает сумму элементов на диагонали. Т. е. 13+32+23+35."
   ]
  },
  {
   "cell_type": "markdown",
   "metadata": {},
   "source": [
    "## Задание 2"
   ]
  },
  {
   "cell_type": "markdown",
   "metadata": {},
   "source": [
    "Дан список чисел, часть из которых имеют строковый тип или содержат буквы. Напишите функцию, которая возвращает сумму квадратов элементов, которые могут быть числами."
   ]
  },
  {
   "cell_type": "code",
   "execution_count": 42,
   "metadata": {},
   "outputs": [],
   "source": [
    "data = [1, '5', 'abc', 20, '2']"
   ]
  },
  {
   "cell_type": "code",
   "execution_count": 45,
   "metadata": {},
   "outputs": [
    {
     "name": "stdout",
     "output_type": "stream",
     "text": [
      "430\n"
     ]
    }
   ],
   "source": [
    "def sum_of_squares(data):\n",
    "    sum_all = 0\n",
    "    for x in data:\n",
    "        if str.isnumeric(str(x)):\n",
    "            sum_all += int(x)**2\n",
    "    return sum_all\n",
    "    \n",
    "print(sum_of_squares(data))"
   ]
  },
  {
   "cell_type": "markdown",
   "metadata": {},
   "source": [
    "## Задание 3"
   ]
  },
  {
   "cell_type": "markdown",
   "metadata": {},
   "source": [
    "Напишите функцию, возвращающую сумму первых n чисел Фибоначчи."
   ]
  },
  {
   "cell_type": "code",
   "execution_count": 73,
   "metadata": {},
   "outputs": [
    {
     "name": "stdout",
     "output_type": "stream",
     "text": [
      "3\n"
     ]
    }
   ],
   "source": [
    "def fibonacci(n):\n",
    "    if n in (1, 2):\n",
    "        return 1\n",
    "    elif n == 0:\n",
    "        return 0\n",
    "    return fibonacci(n - 1) + fibonacci(n - 2)\n",
    " \n",
    "print(fibonacci(4))"
   ]
  },
  {
   "cell_type": "code",
   "execution_count": 74,
   "metadata": {},
   "outputs": [
    {
     "data": {
      "text/plain": [
       "20"
      ]
     },
     "execution_count": 74,
     "metadata": {},
     "output_type": "execute_result"
    }
   ],
   "source": [
    "x = 0\n",
    "for n in range(7):\n",
    "    x += fibonacci(n)\n",
    "x"
   ]
  },
  {
   "cell_type": "markdown",
   "metadata": {},
   "source": [
    "## Задание 4"
   ]
  },
  {
   "cell_type": "markdown",
   "metadata": {},
   "source": [
    "Дан набор данных об обучении студентов на курсе программирования, который содержит: \n",
    "1) имя\n",
    "2) фамилию \n",
    "3) пол \n",
    "4) наличие у студента опыта в программировании \n",
    "5) набор оценок за домашние работы \n",
    "6) оценку за итоговую работу.\n",
    "\n",
    "Напишите программу, которая будет принимать команду от пользователя и возвращать соотвествующий результат.\n",
    "Список команд: \n",
    "1 - вывести на экран среднюю оценку за все ДЗ по группе и вывести на экран среднюю оценку за экзамен по группе;\n",
    "2 - вывести среднюю оценку за ДЗ и за экзамен по группе в разрезе пола студентов\n",
    "3 - вывести среднюю оценку за ДЗ и за экзамен в разрезе наличия опыта в программировании у студентов.\n",
    "\n",
    "Прогрмма должна быть полностью декомпозирована на функции (кроме объявления функций и вызова итоговой функции в реализации ничего быть не должно)."
   ]
  },
  {
   "cell_type": "code",
   "execution_count": 1,
   "metadata": {},
   "outputs": [],
   "source": [
    "students_list = [\n",
    "    {'name': 'Василий', 'surname': 'Теркин', 'sex': 'м', 'program_exp': True, 'grade': [8, 8, 9, 10, 9], 'exam': 9},\n",
    "    {'name': 'Мария', 'surname': 'Павлова', 'sex': 'ж', 'program_exp': True, 'grade': [7, 8, 9, 7, 9], 'exam': 8},\n",
    "    {'name': 'Ирина', 'surname': 'Андреева', 'sex': 'ж', 'program_exp': True, 'grade': [10, 9, 8, 10, 10], 'exam': 10},\n",
    "    {'name': 'Татьяна', 'surname': 'Сидорова', 'sex': 'ж', 'program_exp': True, 'grade': [7, 8, 8, 9, 8], 'exam': 8},\n",
    "    {'name': 'Иван', 'surname': 'Васильев', 'sex': 'ж', 'program_exp': True, 'grade': [9, 8, 9, 6, 9], 'exam': 10},\n",
    "    {'name': 'Роман', 'surname': 'Золотарев', 'sex': 'ж', 'program_exp': False, 'grade': [8, 9, 9, 6, 9], 'exam': 10}\n",
    "]"
   ]
  },
  {
   "cell_type": "code",
   "execution_count": 72,
   "metadata": {},
   "outputs": [],
   "source": [
    "def first_com(students_list):\n",
    "    r_grade = []\n",
    "    r_exam = []\n",
    "    for first in students_list:\n",
    "        if 'grade' in list(first.keys()):\n",
    "            r_grade.append(first['grade'])\n",
    "        if 'exam' in list(first.keys()):\n",
    "            r_exam.append(first['exam'])\n",
    "    mean_grades = 0\n",
    "    for i in r_grade:\n",
    "        mean_grades += sum(i) / len(i)\n",
    "    return int(mean_grades / len(r_grade)), int(sum(r_exam) / len(r_exam))\n",
    "\n",
    "def second_com(students_list):\n",
    "    w = [[],[]] #в 1 индексе - ДЗ, во втором - экзамен\n",
    "    m = [[],[]]\n",
    "    for second in students_list:\n",
    "        if 'ж' in list(second.values()):\n",
    "            w[0].append(second['grade'])\n",
    "            w[1].append(second['exam'])\n",
    "        if 'м' in list(second.values()):\n",
    "            m[0].append(second['grade'])\n",
    "            m[1].append(second['exam'])\n",
    "    mean_w = 0\n",
    "    mean_m = 0\n",
    "    for grade in w[0]: \n",
    "        mean_w += sum(grade) / len(grade) \n",
    "    for grade in m[0]:\n",
    "        mean_m += sum(grade) / len(grade)\n",
    "    return int(mean_w / len(w[0])), int(sum(w[1]) / len(w[1])), int(mean_m / len(m[0])), int(sum(m[1]) / len(m[1]))\n",
    "\n",
    "def third_com(students_list):\n",
    "    t = [[],[]] #в 1 индексе - ДЗ, во втором - экзамен\n",
    "    f = [[],[]]\n",
    "    for third in students_list:\n",
    "        if third['program_exp'] == True:\n",
    "            t[0].append(third['grade'])\n",
    "            t[1].append(third['exam'])\n",
    "        if third['program_exp'] == False:\n",
    "            f[0].append(third['grade'])\n",
    "            f[1].append(third['exam'])\n",
    "    mean_t = 0\n",
    "    mean_f = 0\n",
    "    for grade in t[0]: \n",
    "        mean_t += sum(grade) / len(grade) \n",
    "    for grade in f[0]:\n",
    "        mean_f += sum(grade) / len(grade)\n",
    "    return int(mean_t / len(t[0])), int(sum(t[1]) / len(t[1])), int(mean_f / len(f[0])), int(sum(f[1]) / len(f[1])) "
   ]
  },
  {
   "cell_type": "code",
   "execution_count": 74,
   "metadata": {},
   "outputs": [],
   "source": [
    "def rating():\n",
    "    command = input('Введите команду: 1 - средние оценки за все ДЗ и за экзамен по группе,\\\n",
    "2 - команда 1 в разрезе пола студентов,\\\n",
    "3 - команда 1 в разрезе опыта: ')\n",
    "    if command == '1':\n",
    "        print(' Средняя оценка за все ДЗ по группе: ', first_com(students_list)[0],'\\n',\n",
    "             'Средняя оценка за экзамен по группе: ', first_com(students_list)[1]) \n",
    "    if command == '2':\n",
    "        print (' Средняя оценка за все ДЗ среди женщин: ', second_com(students_list)[0],'\\n',\n",
    "             'Средняя оценка за экзамен среди женщин: ', second_com(students_list)[1],'\\n',\n",
    "             'Средняя оценка за все ДЗ среди мужчин: ', second_com(students_list)[2],'\\n',\n",
    "             'Средняя оценка за экзамен среди мужчин: ', second_com(students_list)[3],'.')\n",
    "    if command == '3':\n",
    "        print (' Средняя оценка за все ДЗ среди имеющих опыт: ', third_com(students_list)[0],'\\n',\n",
    "             'Средняя оценка за экзамен среди имеющих опыт: ', third_com(students_list)[1],'\\n',\n",
    "             'Средняя оценка за все ДЗ среди людей без опыта: ', third_com(students_list)[2],'\\n',\n",
    "             'Средняя оценка за экзамен среди людей без опыта: ', third_com(students_list)[3],'.')"
   ]
  },
  {
   "cell_type": "code",
   "execution_count": 75,
   "metadata": {
    "scrolled": false
   },
   "outputs": [
    {
     "name": "stdout",
     "output_type": "stream",
     "text": [
      "Введите команду: 1 - средние оценки за все ДЗ и за экзамен по группе,2 - команда 1 в разрезе пола студентов,3 - команда 1 в разрезе опыта: 3\n",
      " Средняя оценка за все ДЗ среди имеющих опыт:  8 \n",
      " Средняя оценка за экзамен среди имеющих опыт:  9 \n",
      " Средняя оценка за все ДЗ среди людей без опыта:  8 \n",
      " Средняя оценка за экзамен среди людей без опыта:  10 .\n"
     ]
    }
   ],
   "source": [
    "rating()"
   ]
  },
  {
   "cell_type": "code",
   "execution_count": null,
   "metadata": {},
   "outputs": [],
   "source": []
  }
 ],
 "metadata": {
  "kernelspec": {
   "display_name": "Python 3",
   "language": "python",
   "name": "python3"
  },
  "language_info": {
   "codemirror_mode": {
    "name": "ipython",
    "version": 3
   },
   "file_extension": ".py",
   "mimetype": "text/x-python",
   "name": "python",
   "nbconvert_exporter": "python",
   "pygments_lexer": "ipython3",
   "version": "3.7.1"
  }
 },
 "nbformat": 4,
 "nbformat_minor": 2
}
