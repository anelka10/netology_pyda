{
 "cells": [
  {
   "cell_type": "code",
   "execution_count": 1,
   "metadata": {},
   "outputs": [],
   "source": [
    "import pandas as pd"
   ]
  },
  {
   "cell_type": "markdown",
   "metadata": {},
   "source": [
    "# 1. Загрузить файл hr.csv."
   ]
  },
  {
   "cell_type": "code",
   "execution_count": 2,
   "metadata": {},
   "outputs": [],
   "source": [
    "data = pd.read_csv('HR.csv')"
   ]
  },
  {
   "cell_type": "markdown",
   "metadata": {},
   "source": [
    "# 2. Рассчитать основные статистики для переменных"
   ]
  },
  {
   "cell_type": "code",
   "execution_count": 3,
   "metadata": {
    "scrolled": true
   },
   "outputs": [
    {
     "data": {
      "text/html": [
       "<div>\n",
       "<style scoped>\n",
       "    .dataframe tbody tr th:only-of-type {\n",
       "        vertical-align: middle;\n",
       "    }\n",
       "\n",
       "    .dataframe tbody tr th {\n",
       "        vertical-align: top;\n",
       "    }\n",
       "\n",
       "    .dataframe thead th {\n",
       "        text-align: right;\n",
       "    }\n",
       "</style>\n",
       "<table border=\"1\" class=\"dataframe\">\n",
       "  <thead>\n",
       "    <tr style=\"text-align: right;\">\n",
       "      <th></th>\n",
       "      <th>satisfaction_level</th>\n",
       "      <th>last_evaluation</th>\n",
       "      <th>number_project</th>\n",
       "      <th>average_montly_hours</th>\n",
       "      <th>time_spend_company</th>\n",
       "      <th>Work_accident</th>\n",
       "      <th>left</th>\n",
       "      <th>promotion_last_5years</th>\n",
       "      <th>sales</th>\n",
       "      <th>salary</th>\n",
       "    </tr>\n",
       "  </thead>\n",
       "  <tbody>\n",
       "    <tr>\n",
       "      <td>0</td>\n",
       "      <td>0.38</td>\n",
       "      <td>0.53</td>\n",
       "      <td>2</td>\n",
       "      <td>157</td>\n",
       "      <td>3</td>\n",
       "      <td>0</td>\n",
       "      <td>1</td>\n",
       "      <td>0</td>\n",
       "      <td>sales</td>\n",
       "      <td>low</td>\n",
       "    </tr>\n",
       "    <tr>\n",
       "      <td>1</td>\n",
       "      <td>0.80</td>\n",
       "      <td>0.86</td>\n",
       "      <td>5</td>\n",
       "      <td>262</td>\n",
       "      <td>6</td>\n",
       "      <td>0</td>\n",
       "      <td>1</td>\n",
       "      <td>0</td>\n",
       "      <td>sales</td>\n",
       "      <td>medium</td>\n",
       "    </tr>\n",
       "    <tr>\n",
       "      <td>2</td>\n",
       "      <td>0.11</td>\n",
       "      <td>0.88</td>\n",
       "      <td>7</td>\n",
       "      <td>272</td>\n",
       "      <td>4</td>\n",
       "      <td>0</td>\n",
       "      <td>1</td>\n",
       "      <td>0</td>\n",
       "      <td>sales</td>\n",
       "      <td>medium</td>\n",
       "    </tr>\n",
       "    <tr>\n",
       "      <td>3</td>\n",
       "      <td>0.72</td>\n",
       "      <td>0.87</td>\n",
       "      <td>5</td>\n",
       "      <td>223</td>\n",
       "      <td>5</td>\n",
       "      <td>0</td>\n",
       "      <td>1</td>\n",
       "      <td>0</td>\n",
       "      <td>sales</td>\n",
       "      <td>low</td>\n",
       "    </tr>\n",
       "    <tr>\n",
       "      <td>4</td>\n",
       "      <td>0.37</td>\n",
       "      <td>0.52</td>\n",
       "      <td>2</td>\n",
       "      <td>159</td>\n",
       "      <td>3</td>\n",
       "      <td>0</td>\n",
       "      <td>1</td>\n",
       "      <td>0</td>\n",
       "      <td>sales</td>\n",
       "      <td>low</td>\n",
       "    </tr>\n",
       "  </tbody>\n",
       "</table>\n",
       "</div>"
      ],
      "text/plain": [
       "   satisfaction_level  last_evaluation  number_project  average_montly_hours  \\\n",
       "0                0.38             0.53               2                   157   \n",
       "1                0.80             0.86               5                   262   \n",
       "2                0.11             0.88               7                   272   \n",
       "3                0.72             0.87               5                   223   \n",
       "4                0.37             0.52               2                   159   \n",
       "\n",
       "   time_spend_company  Work_accident  left  promotion_last_5years  sales  \\\n",
       "0                   3              0     1                      0  sales   \n",
       "1                   6              0     1                      0  sales   \n",
       "2                   4              0     1                      0  sales   \n",
       "3                   5              0     1                      0  sales   \n",
       "4                   3              0     1                      0  sales   \n",
       "\n",
       "   salary  \n",
       "0     low  \n",
       "1  medium  \n",
       "2  medium  \n",
       "3     low  \n",
       "4     low  "
      ]
     },
     "execution_count": 3,
     "metadata": {},
     "output_type": "execute_result"
    }
   ],
   "source": [
    "data.head()"
   ]
  },
  {
   "cell_type": "code",
   "execution_count": 4,
   "metadata": {},
   "outputs": [],
   "source": [
    "columns_for_statistic = data.loc[:, :'promotion_last_5years'].columns"
   ]
  },
  {
   "cell_type": "code",
   "execution_count": 5,
   "metadata": {
    "scrolled": true
   },
   "outputs": [],
   "source": [
    "statistic = pd.DataFrame(index=['mean', 'median', 'mode', 'min', 'max', 'mean_deviation'], \n",
    "                         columns=columns_for_statistic)\n",
    "\n",
    "for col in columns_for_statistic:\n",
    "    statistic[col]['mean'] = data[col].mean()\n",
    "    statistic[col]['median'] = data[col].median()\n",
    "    statistic[col]['mode'] = data[col].mode()\n",
    "    statistic[col]['min'] = data[col].min()\n",
    "    statistic[col]['max'] = data[col].max()\n",
    "    statistic[col]['mean_deviation'] = sum(abs(data[col] - data[col].mean()))/len(data[col])\n"
   ]
  },
  {
   "cell_type": "code",
   "execution_count": 6,
   "metadata": {},
   "outputs": [
    {
     "data": {
      "text/html": [
       "<div>\n",
       "<style scoped>\n",
       "    .dataframe tbody tr th:only-of-type {\n",
       "        vertical-align: middle;\n",
       "    }\n",
       "\n",
       "    .dataframe tbody tr th {\n",
       "        vertical-align: top;\n",
       "    }\n",
       "\n",
       "    .dataframe thead th {\n",
       "        text-align: right;\n",
       "    }\n",
       "</style>\n",
       "<table border=\"1\" class=\"dataframe\">\n",
       "  <thead>\n",
       "    <tr style=\"text-align: right;\">\n",
       "      <th></th>\n",
       "      <th>satisfaction_level</th>\n",
       "      <th>last_evaluation</th>\n",
       "      <th>number_project</th>\n",
       "      <th>average_montly_hours</th>\n",
       "      <th>time_spend_company</th>\n",
       "      <th>Work_accident</th>\n",
       "      <th>left</th>\n",
       "      <th>promotion_last_5years</th>\n",
       "    </tr>\n",
       "  </thead>\n",
       "  <tbody>\n",
       "    <tr>\n",
       "      <td>mean</td>\n",
       "      <td>0.612834</td>\n",
       "      <td>0.716102</td>\n",
       "      <td>3.80305</td>\n",
       "      <td>201.05</td>\n",
       "      <td>3.49823</td>\n",
       "      <td>0.14461</td>\n",
       "      <td>0.238083</td>\n",
       "      <td>0.0212681</td>\n",
       "    </tr>\n",
       "    <tr>\n",
       "      <td>median</td>\n",
       "      <td>0.64</td>\n",
       "      <td>0.72</td>\n",
       "      <td>4</td>\n",
       "      <td>200</td>\n",
       "      <td>3</td>\n",
       "      <td>0</td>\n",
       "      <td>0</td>\n",
       "      <td>0</td>\n",
       "    </tr>\n",
       "    <tr>\n",
       "      <td>mode</td>\n",
       "      <td>0    0.1\n",
       "dtype: float64</td>\n",
       "      <td>0    0.55\n",
       "dtype: float64</td>\n",
       "      <td>0    4\n",
       "dtype: int64</td>\n",
       "      <td>0    135\n",
       "1    156\n",
       "dtype: int64</td>\n",
       "      <td>0    3\n",
       "dtype: int64</td>\n",
       "      <td>0    0\n",
       "dtype: int64</td>\n",
       "      <td>0    0\n",
       "dtype: int64</td>\n",
       "      <td>0    0\n",
       "dtype: int64</td>\n",
       "    </tr>\n",
       "    <tr>\n",
       "      <td>min</td>\n",
       "      <td>0.09</td>\n",
       "      <td>0.36</td>\n",
       "      <td>2</td>\n",
       "      <td>96</td>\n",
       "      <td>2</td>\n",
       "      <td>0</td>\n",
       "      <td>0</td>\n",
       "      <td>0</td>\n",
       "    </tr>\n",
       "    <tr>\n",
       "      <td>max</td>\n",
       "      <td>1</td>\n",
       "      <td>1</td>\n",
       "      <td>7</td>\n",
       "      <td>310</td>\n",
       "      <td>10</td>\n",
       "      <td>1</td>\n",
       "      <td>1</td>\n",
       "      <td>1</td>\n",
       "    </tr>\n",
       "    <tr>\n",
       "      <td>mean_deviation</td>\n",
       "      <td>0.206911</td>\n",
       "      <td>0.150389</td>\n",
       "      <td>1.00834</td>\n",
       "      <td>43.6713</td>\n",
       "      <td>1.07612</td>\n",
       "      <td>0.247395</td>\n",
       "      <td>0.362798</td>\n",
       "      <td>0.0416315</td>\n",
       "    </tr>\n",
       "  </tbody>\n",
       "</table>\n",
       "</div>"
      ],
      "text/plain": [
       "                     satisfaction_level           last_evaluation  \\\n",
       "mean                           0.612834                  0.716102   \n",
       "median                             0.64                      0.72   \n",
       "mode            0    0.1\n",
       "dtype: float64  0    0.55\n",
       "dtype: float64   \n",
       "min                                0.09                      0.36   \n",
       "max                                   1                         1   \n",
       "mean_deviation                 0.206911                  0.150389   \n",
       "\n",
       "                     number_project            average_montly_hours  \\\n",
       "mean                        3.80305                          201.05   \n",
       "median                            4                             200   \n",
       "mode            0    4\n",
       "dtype: int64  0    135\n",
       "1    156\n",
       "dtype: int64   \n",
       "min                               2                              96   \n",
       "max                               7                             310   \n",
       "mean_deviation              1.00834                         43.6713   \n",
       "\n",
       "                 time_spend_company        Work_accident                 left  \\\n",
       "mean                        3.49823              0.14461             0.238083   \n",
       "median                            3                    0                    0   \n",
       "mode            0    3\n",
       "dtype: int64  0    0\n",
       "dtype: int64  0    0\n",
       "dtype: int64   \n",
       "min                               2                    0                    0   \n",
       "max                              10                    1                    1   \n",
       "mean_deviation              1.07612             0.247395             0.362798   \n",
       "\n",
       "               promotion_last_5years  \n",
       "mean                       0.0212681  \n",
       "median                             0  \n",
       "mode             0    0\n",
       "dtype: int64  \n",
       "min                                0  \n",
       "max                                1  \n",
       "mean_deviation             0.0416315  "
      ]
     },
     "execution_count": 6,
     "metadata": {},
     "output_type": "execute_result"
    }
   ],
   "source": [
    "statistic"
   ]
  },
  {
   "cell_type": "markdown",
   "metadata": {},
   "source": [
    "# 3. Рассчитать и визуализировать корреляционную матрицу для переменных."
   ]
  },
  {
   "cell_type": "code",
   "execution_count": 8,
   "metadata": {},
   "outputs": [
    {
     "data": {
      "image/png": "[encoded data removed]",
      "text/plain": [
       "<Figure size 432x288 with 2 Axes>"
      ]
     },
     "metadata": {
      "needs_background": "light"
     },
     "output_type": "display_data"
    }
   ],
   "source": [
    "#import matplotlib.pyplot as plt\n",
    "import seaborn as sns\n",
    "\n",
    "# Корреляционная матрица\n",
    "corr = data[columns_for_statistic].corr()\n",
    "\n",
    "# Визуализация\n",
    "\n",
    "sns.heatmap(corr, \n",
    "           xticklabels=corr.columns,\n",
    "           yticklabels=corr.columns);"
   ]
  },
  {
   "cell_type": "markdown",
   "metadata": {},
   "source": [
    "# 4. Визуализировать несколько взаимосвязей между переменными."
   ]
  },
  {
   "cell_type": "code",
   "execution_count": 38,
   "metadata": {
    "scrolled": false
   },
   "outputs": [
    {
     "data": {
      "image/png": "[encoded data removed]",
      "text/plain": [
       "<Figure size 432x432 with 3 Axes>"
      ]
     },
     "metadata": {
      "needs_background": "light"
     },
     "output_type": "display_data"
    }
   ],
   "source": [
    "sns.jointplot(data['satisfaction_level'], data['last_evaluation']);\n",
    "\n",
    "# Из графика видно, что в компании преимущественно люди с уровнем удовлетворенности больше 0.5 \n",
    "# и значением последней оценки больше 0.5, Это видно по плотному скоплению точек в данной зоне. "
   ]
  },
  {
   "cell_type": "code",
   "execution_count": 36,
   "metadata": {},
   "outputs": [
    {
     "data": {
      "image/png": "[encoded data removed]",
      "text/plain": [
       "<Figure size 1080x720 with 1 Axes>"
      ]
     },
     "metadata": {
      "needs_background": "light"
     },
     "output_type": "display_data"
    }
   ],
   "source": [
    "plt.figure(figsize = (15, 10))\n",
    "sns.countplot(x='promotion_last_5years', hue='left', data=data[['promotion_last_5years', 'left']]);\n",
    "\n",
    "# Из графика видно, что преимущественно люди, не смотря на отсутствие карьерного роста,\n",
    "# предпочитают оставаться на прежнем месте работы, иными словами, предпочитают уже имеющийся стабильный заработок,\n",
    "# а не уход с этой работы ради гипотетического карьерного роста в другом месте и уходят из компании в трети случаев."
   ]
  },
  {
   "cell_type": "markdown",
   "metadata": {},
   "source": [
    "# 5. С использованием t-test статистики проверить взаимосвязи между несколькими переменными."
   ]
  },
  {
   "cell_type": "code",
   "execution_count": 11,
   "metadata": {},
   "outputs": [
    {
     "data": {
      "text/plain": [
       "Ttest_indResult(statistic=-41.89868154070206, pvalue=0.0)"
      ]
     },
     "execution_count": 11,
     "metadata": {},
     "output_type": "execute_result"
    }
   ],
   "source": [
    "from scipy import stats\n",
    "\n",
    "stats.ttest_ind(data['satisfaction_level'], data['last_evaluation'])"
   ]
  },
  {
   "cell_type": "code",
   "execution_count": 12,
   "metadata": {},
   "outputs": [
    {
     "data": {
      "text/plain": [
       "Ttest_indResult(statistic=-20.724471296371643, pvalue=9.625063899986344e-95)"
      ]
     },
     "execution_count": 12,
     "metadata": {},
     "output_type": "execute_result"
    }
   ],
   "source": [
    "stats.ttest_ind(data['Work_accident'], data['left'])"
   ]
  },
  {
   "cell_type": "markdown",
   "metadata": {},
   "source": [
    "# 6. Рассчитать сколько работников работает в каждом департаменте."
   ]
  },
  {
   "cell_type": "code",
   "execution_count": 13,
   "metadata": {},
   "outputs": [
    {
     "data": {
      "text/plain": [
       "sales          4140\n",
       "technical      2720\n",
       "support        2229\n",
       "IT             1227\n",
       "product_mng     902\n",
       "marketing       858\n",
       "RandD           787\n",
       "accounting      767\n",
       "hr              739\n",
       "management      630\n",
       "Name: sales, dtype: int64"
      ]
     },
     "execution_count": 13,
     "metadata": {},
     "output_type": "execute_result"
    }
   ],
   "source": [
    "count_employee = data['sales'].value_counts()\n",
    "count_employee\n",
    "\n",
    "# Большинство людей компании работает в отделе sales и меньше всего людей работает в отделе management."
   ]
  },
  {
   "cell_type": "markdown",
   "metadata": {},
   "source": [
    "# 7. Показать распределение сотрудников по зарплатам."
   ]
  },
  {
   "cell_type": "code",
   "execution_count": 14,
   "metadata": {
    "scrolled": true
   },
   "outputs": [],
   "source": [
    "hist_salary = data['salary'].value_counts()"
   ]
  },
  {
   "cell_type": "code",
   "execution_count": 15,
   "metadata": {},
   "outputs": [
    {
     "data": {
      "image/png": "[encoded data removed]",
      "text/plain": [
       "<Figure size 720x360 with 1 Axes>"
      ]
     },
     "metadata": {
      "needs_background": "light"
     },
     "output_type": "display_data"
    }
   ],
   "source": [
    "import matplotlib.pyplot as plt\n",
    "\n",
    "plt.figure(figsize = (10, 5))\n",
    "plt.bar(hist_salary.index, hist_salary);\n",
    "\n",
    "# На графике видно, что В основном работники получают низкую и среднюю зарплату \n",
    "# и небольшая часть людей получает высокую зарплату."
   ]
  },
  {
   "cell_type": "markdown",
   "metadata": {},
   "source": [
    "# 8. Показать распределение сотрудников по зарплатам совместно с департаментами."
   ]
  },
  {
   "cell_type": "code",
   "execution_count": 16,
   "metadata": {},
   "outputs": [],
   "source": [
    "hist_salary_and_department = pd.DataFrame(index=data['sales'].unique(), columns=data['salary'].unique())"
   ]
  },
  {
   "cell_type": "code",
   "execution_count": 17,
   "metadata": {},
   "outputs": [
    {
     "data": {
      "text/html": [
       "<div>\n",
       "<style scoped>\n",
       "    .dataframe tbody tr th:only-of-type {\n",
       "        vertical-align: middle;\n",
       "    }\n",
       "\n",
       "    .dataframe tbody tr th {\n",
       "        vertical-align: top;\n",
       "    }\n",
       "\n",
       "    .dataframe thead th {\n",
       "        text-align: right;\n",
       "    }\n",
       "</style>\n",
       "<table border=\"1\" class=\"dataframe\">\n",
       "  <thead>\n",
       "    <tr style=\"text-align: right;\">\n",
       "      <th></th>\n",
       "      <th>low</th>\n",
       "      <th>medium</th>\n",
       "      <th>high</th>\n",
       "    </tr>\n",
       "  </thead>\n",
       "  <tbody>\n",
       "    <tr>\n",
       "      <td>sales</td>\n",
       "      <td>2099</td>\n",
       "      <td>1772</td>\n",
       "      <td>269</td>\n",
       "    </tr>\n",
       "    <tr>\n",
       "      <td>accounting</td>\n",
       "      <td>358</td>\n",
       "      <td>335</td>\n",
       "      <td>74</td>\n",
       "    </tr>\n",
       "    <tr>\n",
       "      <td>hr</td>\n",
       "      <td>335</td>\n",
       "      <td>359</td>\n",
       "      <td>45</td>\n",
       "    </tr>\n",
       "    <tr>\n",
       "      <td>technical</td>\n",
       "      <td>1372</td>\n",
       "      <td>1147</td>\n",
       "      <td>201</td>\n",
       "    </tr>\n",
       "    <tr>\n",
       "      <td>support</td>\n",
       "      <td>1146</td>\n",
       "      <td>942</td>\n",
       "      <td>141</td>\n",
       "    </tr>\n",
       "    <tr>\n",
       "      <td>management</td>\n",
       "      <td>180</td>\n",
       "      <td>225</td>\n",
       "      <td>225</td>\n",
       "    </tr>\n",
       "    <tr>\n",
       "      <td>IT</td>\n",
       "      <td>609</td>\n",
       "      <td>535</td>\n",
       "      <td>83</td>\n",
       "    </tr>\n",
       "    <tr>\n",
       "      <td>product_mng</td>\n",
       "      <td>451</td>\n",
       "      <td>383</td>\n",
       "      <td>68</td>\n",
       "    </tr>\n",
       "    <tr>\n",
       "      <td>marketing</td>\n",
       "      <td>402</td>\n",
       "      <td>376</td>\n",
       "      <td>80</td>\n",
       "    </tr>\n",
       "    <tr>\n",
       "      <td>RandD</td>\n",
       "      <td>364</td>\n",
       "      <td>372</td>\n",
       "      <td>51</td>\n",
       "    </tr>\n",
       "  </tbody>\n",
       "</table>\n",
       "</div>"
      ],
      "text/plain": [
       "              low  medium  high\n",
       "sales        2099    1772   269\n",
       "accounting    358     335    74\n",
       "hr            335     359    45\n",
       "technical    1372    1147   201\n",
       "support      1146     942   141\n",
       "management    180     225   225\n",
       "IT            609     535    83\n",
       "product_mng   451     383    68\n",
       "marketing     402     376    80\n",
       "RandD         364     372    51"
      ]
     },
     "execution_count": 17,
     "metadata": {},
     "output_type": "execute_result"
    }
   ],
   "source": [
    "for depatrment in hist_salary_and_department.index:\n",
    "    hist_salary_and_department.loc[depatrment] = data[data['sales']==depatrment]['salary'].value_counts()\n",
    "    \n",
    "hist_salary_and_department"
   ]
  },
  {
   "cell_type": "code",
   "execution_count": 18,
   "metadata": {},
   "outputs": [
    {
     "data": {
      "image/png": "[encoded data removed]",
      "text/plain": [
       "<Figure size 1440x720 with 1 Axes>"
      ]
     },
     "metadata": {
      "needs_background": "light"
     },
     "output_type": "display_data"
    }
   ],
   "source": [
    "pos = list(range(len(hist_salary_and_department)))\n",
    "width = 0.15\n",
    "\n",
    "plt.figure(figsize = (20, 10))\n",
    "\n",
    "bar_1 = plt.bar([p + width + 0.05 for p in pos],\n",
    "                hist_salary_and_department['low'], width,\n",
    "                label='low',\n",
    "                color=\"red\", \n",
    "                alpha=0.4)\n",
    "\n",
    "bar_2 = plt.bar([p + width*2 + 0.05 for p in pos], \n",
    "                hist_salary_and_department['medium'], \n",
    "                width, \n",
    "                label='medium', \n",
    "                color=\"orange\",\n",
    "                alpha=0.4)\n",
    "\n",
    "bar_3 = plt.bar([p + width*3 + 0.05 for p in pos],\n",
    "                hist_salary_and_department['high'],\n",
    "                width, label='high',\n",
    "                color=\"g\",\n",
    "                alpha=0.4)\n",
    "\n",
    "plt.xticks([p + 1.5 * width for p in pos], labels=hist_salary_and_department.index,  rotation=45, fontsize=12);\n",
    "plt.yticks(fontsize=12)\n",
    "plt.legend();\n",
    "\n",
    "# Из графика распределения зарплат по отделам можно наблюдать, что во всех отделах преобладает низкая и средняя зарплата,\n",
    "# высокую зарплату в этих отделах получают скорее всего высшее руководство отделов. Только в отделе manegment преобладают \n",
    "# средние и высокие зарплаты. "
   ]
  },
  {
   "cell_type": "markdown",
   "metadata": {},
   "source": [
    "# 9. Сколько сотрудников покинули компанию."
   ]
  },
  {
   "cell_type": "code",
   "execution_count": 19,
   "metadata": {},
   "outputs": [
    {
     "data": {
      "text/plain": [
       "0    11428\n",
       "1     3571\n",
       "Name: left, dtype: int64"
      ]
     },
     "execution_count": 19,
     "metadata": {},
     "output_type": "execute_result"
    }
   ],
   "source": [
    "data['left'].value_counts()\n",
    "\n",
    "# 3571 сотрудников покинули компанию и 11428 сотрудника остались в компании."
   ]
  },
  {
   "cell_type": "markdown",
   "metadata": {},
   "source": [
    "# 10. Проверить несколько гипотез для данных, чтобы понять почему сотрудники покидают компанию."
   ]
  },
  {
   "cell_type": "code",
   "execution_count": 20,
   "metadata": {
    "scrolled": true
   },
   "outputs": [],
   "source": [
    "# Гипотеза №1: Проверить как зависит уход сотрудника из компании от заработной платы.\n",
    "\n",
    "data_left = pd.DataFrame(index=data['left'].unique(), columns=data['salary'].unique())\n",
    "\n",
    "for left in data_left.index:\n",
    "    data_left.loc[left] = data[data['left']==left]['salary'].value_counts()"
   ]
  },
  {
   "cell_type": "code",
   "execution_count": 21,
   "metadata": {},
   "outputs": [
    {
     "data": {
      "text/html": [
       "<div>\n",
       "<style scoped>\n",
       "    .dataframe tbody tr th:only-of-type {\n",
       "        vertical-align: middle;\n",
       "    }\n",
       "\n",
       "    .dataframe tbody tr th {\n",
       "        vertical-align: top;\n",
       "    }\n",
       "\n",
       "    .dataframe thead th {\n",
       "        text-align: right;\n",
       "    }\n",
       "</style>\n",
       "<table border=\"1\" class=\"dataframe\">\n",
       "  <thead>\n",
       "    <tr style=\"text-align: right;\">\n",
       "      <th></th>\n",
       "      <th>low</th>\n",
       "      <th>medium</th>\n",
       "      <th>high</th>\n",
       "    </tr>\n",
       "  </thead>\n",
       "  <tbody>\n",
       "    <tr>\n",
       "      <td>1</td>\n",
       "      <td>2172</td>\n",
       "      <td>1317</td>\n",
       "      <td>82</td>\n",
       "    </tr>\n",
       "    <tr>\n",
       "      <td>0</td>\n",
       "      <td>5144</td>\n",
       "      <td>5129</td>\n",
       "      <td>1155</td>\n",
       "    </tr>\n",
       "  </tbody>\n",
       "</table>\n",
       "</div>"
      ],
      "text/plain": [
       "    low  medium  high\n",
       "1  2172    1317    82\n",
       "0  5144    5129  1155"
      ]
     },
     "execution_count": 21,
     "metadata": {},
     "output_type": "execute_result"
    }
   ],
   "source": [
    "data_left\n",
    "\n",
    "# Как видно из таблицы 'data_left' чаще увольняются люди с низкой и средней заработной платой. \n",
    "# Возможно, данные уровни заработной платы не устраивали сотрудников и это послужило причиной ухода."
   ]
  },
  {
   "cell_type": "code",
   "execution_count": 22,
   "metadata": {},
   "outputs": [
    {
     "name": "stdout",
     "output_type": "stream",
     "text": [
      " Удовлетворенность покинувших компанию:  0.44 \n",
      " Удовлетворенность не покинувших компанию:  0.667\n"
     ]
    }
   ],
   "source": [
    "# Гипотеза №2: Проверить как зависит уход сотрудника из компании от уровня удовлетворенности.\n",
    "# Значение удовлетворенности лежит в диапазоне от 0 до 1.\n",
    "# Для проверки данной гипотезы возьмем средние значения удовлетворенности по классам - \n",
    "#                                                                            \"Ушел из компании\" и \"Остался в компании\"\n",
    "\n",
    "\n",
    "mean_left = data[data['left']==1]['satisfaction_level'].mean()\n",
    "mean_dont_left = data[data['left']==0]['satisfaction_level'].mean()\n",
    "\n",
    "print(' Удовлетворенность покинувших компанию: ', round(mean_left, 3), '\\n',\n",
    "      'Удовлетворенность не покинувших компанию: ', round(mean_dont_left, 3))\n",
    "\n",
    "# Как видно из данны, в среднем у людей покинувших компанию удовлетворенность ниже, чем у людей оставшихся в компании.\n",
    "# Можно утверждать, что в среднем люди уходят из компании из-за низкой удовлетворенности."
   ]
  },
  {
   "cell_type": "code",
   "execution_count": null,
   "metadata": {},
   "outputs": [],
   "source": []
  }
 ],
 "metadata": {
  "kernelspec": {
   "display_name": "Python 3",
   "language": "python",
   "name": "python3"
  },
  "language_info": {
   "codemirror_mode": {
    "name": "ipython",
    "version": 3
   },
   "file_extension": ".py",
   "mimetype": "text/x-python",
   "name": "python",
   "nbconvert_exporter": "python",
   "pygments_lexer": "ipython3",
   "version": "3.7.1"
  }
 },
 "nbformat": 4,
 "nbformat_minor": 2
}
