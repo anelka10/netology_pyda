{
 "cells": [
  {
   "cell_type": "markdown",
   "metadata": {},
   "source": [
    "**Задание 1**. Даны 2 строки: *long_phrase* и *short_phrase*. \n",
    "Напишите код, который проверяет действительно ли длинная фраза *long_phrase* длиннее короткой *short_phrase*. И выводит *True* или *False* в зависимости от результата сравнения."
   ]
  },
  {
   "cell_type": "code",
   "execution_count": 5,
   "metadata": {},
   "outputs": [],
   "source": [
    "long_phrase = 'Насколько проще было бы писать программы, если бы не заказчики'\n",
    "short_phrase ='640Кб должно хватить для любых задач. Билл Гейтс (по легенде)'"
   ]
  },
  {
   "cell_type": "code",
   "execution_count": 6,
   "metadata": {},
   "outputs": [
    {
     "data": {
      "text/plain": [
       "True"
      ]
     },
     "execution_count": 6,
     "metadata": {},
     "output_type": "execute_result"
    }
   ],
   "source": [
    "len(long_phrase) > len (short_phrase) "
   ]
  },
  {
   "cell_type": "markdown",
   "metadata": {},
   "source": [
    "**Задание 2**. Дано значение объема файла в байтах. Напишите перевод этого значения в мегабайты в формате: \"*Объем файла равен 213.68Mb*\""
   ]
  },
  {
   "cell_type": "code",
   "execution_count": 10,
   "metadata": {},
   "outputs": [
    {
     "name": "stdout",
     "output_type": "stream",
     "text": [
      "Введите количество байт30000000000\n",
      "Объем файла равен 28610.23 Mb\n"
     ]
    }
   ],
   "source": [
    "byte = int(input('Введите количество байт'))\n",
    "if byte >= 0:\n",
    "        x = round(byte / 2**20, 2)\n",
    "        print('Объем файла равен', x, 'Mb')\n",
    "else : \n",
    "    print('Некорректные данные')"
   ]
  },
  {
   "cell_type": "markdown",
   "metadata": {},
   "source": [
    "**Задание 3**. Разработать приложение для определения знака зодиака по дате рождения. Пример:\n",
    "\n",
    "Введите месяц: март\n",
    "\n",
    "Введите число: 6\n",
    "\n",
    "Вывод:\n",
    "Рыбы"
   ]
  },
  {
   "cell_type": "code",
   "execution_count": 34,
   "metadata": {},
   "outputs": [
    {
     "name": "stdout",
     "output_type": "stream",
     "text": [
      "Введите месяц:МАРТ\n",
      "Введите число:6\n",
      "Вывод: Рыбы\n"
     ]
    }
   ],
   "source": [
    "month = input('Введите месяц:') #я решила попробовать два метода, так что ниже второй способ.\n",
    "month = month.lower() #учла вероятность ввода месяца с верхним регистром\n",
    "date = int(input('Введите число:'))\n",
    "if (month == 'март' and 21<=date<=31) or (month == 'апрель' and 1<=date<=19):\n",
    "    print('Вывод: Овен')\n",
    "elif (month == 'апрель' and 20<=date<=30) or (month == 'май' and 1<=date<=20):\n",
    "    print('Вывод: Телец')\n",
    "elif (month == 'май' and 21<=date<=31) or (month == 'июнь' and 1<=date<=20):\n",
    "    print('Вывод: Близнецы')\n",
    "elif (month == 'июнь' and 21<=date<=30) or (month == 'июль' and 1<=date<=22):\n",
    "    print('Вывод: Рак')\n",
    "elif (month == 'июль' and 22<=date<=31) or (month == 'август' and 1<=date<=22):\n",
    "    print('Вывод: Лев')\n",
    "elif (month == 'август' and 23<=date<=31) or (month == 'сентябрь' and 1<=date<=22):\n",
    "    print('Вывод: Дева')\n",
    "elif (month == 'сентябрь' and 23<=date<=30) or (month == 'октябрь' and 1<=date<=22):\n",
    "    print('Вывод: Весы')\n",
    "elif (month == 'октябрь' and 23<=date<=31) or (month == 'ноябрь' and 1<=date<=21):\n",
    "    print('Вывод: Скорпион')\n",
    "elif (month == 'ноябрь' and 22<=date<=30) or (month == 'декабрь' and 1<=date<=21):\n",
    "    print('Вывод: Стрелец')\n",
    "elif (month == 'декабрь' and 22<=date<=31) or (month == 'январь' and 1<=date<=19):\n",
    "    print('Вывод: Козерог')\n",
    "elif (month == 'январь' and 20<=date<=31) or (month == 'февраль' and 1<=date<=18):\n",
    "    print('Вывод: Водолей')\n",
    "elif (month == 'февраль' and 19<=date<=29) or (month == 'март' and 1<=date<=20):\n",
    "    print('Вывод: Рыбы')\n",
    "else:\n",
    "    print('Пожалуйста, введите корректные данные')"
   ]
  },
  {
   "cell_type": "code",
   "execution_count": 32,
   "metadata": {},
   "outputs": [
    {
     "name": "stdout",
     "output_type": "stream",
     "text": [
      "Введите месяц:Март\n",
      "Введите число:6\n",
      "Вывод: Рыбы\n"
     ]
    }
   ],
   "source": [
    "month = input('Введите месяц:')\n",
    "month = month.lower() \n",
    "if month == 'март':\n",
    "    date = int(input('Введите число:')) #я думаю, вам не принципиально, но брала первый вариант дат по западной астрологии:)\n",
    "    if date <= 21:\n",
    "        print('Вывод: Рыбы')\n",
    "    elif date > 21 and date <= 31:\n",
    "        print('Вывод: Овен')\n",
    "    elif date > 31:\n",
    "        print('Некорректное число')\n",
    "elif month == 'апрель':\n",
    "    date = int(input('Введите число:'))\n",
    "    if date <= 19:\n",
    "        print('Вывод: Овен')\n",
    "    elif date > 19 and date <= 30:\n",
    "        print('Вывод: Телец')\n",
    "    elif date > 30:\n",
    "        print('Некорректное число')\n",
    "elif month == 'май':\n",
    "    date = int(input('Введите число:'))\n",
    "    if date <= 20:\n",
    "        print('Вывод: Телец')\n",
    "    elif date > 20 and date <= 31:\n",
    "        print('Вывод: Близнецы')\n",
    "    elif date > 31:\n",
    "        print('Некорректное число')\n",
    "elif month == 'июнь':\n",
    "    date = int(input('Введите число:'))\n",
    "    if date <= 20:\n",
    "        print('Вывод: Близнецы')\n",
    "    elif date > 20 and date <= 30:\n",
    "        print('Вывод: Рак')\n",
    "    elif date > 30:\n",
    "        print('Некорректное число')\n",
    "elif month == 'июль':\n",
    "    date = int(input('Введите число:'))\n",
    "    if date <= 22:\n",
    "        print('Вывод: Рак')\n",
    "    elif date > 22 and date <= 31:\n",
    "        print('Вывод: Лев')\n",
    "    elif date > 31:\n",
    "        print('Некорректное число:')\n",
    "elif month == 'август':\n",
    "    date = int(input('Введите число'))\n",
    "    if date <= 22:\n",
    "        print('Вывод: Лев')\n",
    "    elif date > 22 and date <= 31:\n",
    "        print('Вывод: Дева')\n",
    "    elif date > 31:\n",
    "        print('Некорректное число')\n",
    "elif month == 'сентябрь':\n",
    "    date = int(input('Введите число:'))\n",
    "    if date <= 22:\n",
    "        print('Вывод: Дева')\n",
    "    elif date > 22 and date <= 30:\n",
    "        print('Вывод: Весы')\n",
    "    elif date > 30:\n",
    "        print('Некорректное число')\n",
    "elif month == 'октябрь':\n",
    "    date = int(input('Введите число:'))\n",
    "    if date <= 22:\n",
    "        print('Вывод: Весы')\n",
    "    elif date > 22 and date <= 31:\n",
    "        print('Вывод: Скорпион')\n",
    "    elif date > 31:\n",
    "        print('Некорректное число')\n",
    "elif month == 'ноябрь':\n",
    "    date = int(input('Введите число:'))\n",
    "    if date <= 21:\n",
    "        print('Вывод: Скорпион')\n",
    "    elif date > 21 and date <= 30:\n",
    "        print('Вывод: Стрелец')\n",
    "    elif date > 30:\n",
    "        print('Некорректное число')\n",
    "elif month == 'декабрь':\n",
    "    date = int(input('Введите число:'))\n",
    "    if date <= 21:\n",
    "        print('Вывод: Стрелец')\n",
    "    elif date > 21 and date <= 31:\n",
    "        print('Вывод: Козерог')\n",
    "    elif date > 31:\n",
    "        print('Некорректное число')\n",
    "elif month == 'январь':\n",
    "    date = int(input('Введите число:'))\n",
    "    if date <= 19:\n",
    "        print('Вывод: Козерог')\n",
    "    elif date > 19 and date <= 31:\n",
    "        print('Вывод: Водолей')\n",
    "    elif date > 31:\n",
    "        print('Некорректное число')\n",
    "elif month == 'февраль':\n",
    "    date = int(input('Введите число:'))\n",
    "    if date <= 18:\n",
    "        print('Вывод: Водолей')\n",
    "    elif date > 18 and date <= 29:\n",
    "        print('Вывод: Рыбы')\n",
    "    elif date > 29:\n",
    "        print('Некорректное число')\n",
    "else:\n",
    "    print ('Укажите месяц')  "
   ]
  },
  {
   "cell_type": "markdown",
   "metadata": {},
   "source": [
    "**Задание 4**. Нужно разработать приложение для финансового планирования.\n",
    "Приложение учитывает сколько уходит на ипотеку, \"на жизнь\" и сколько нужно отложить на пенсию.\n",
    "Пользователь вводит:\n",
    "- заработанную плату в месяц.\n",
    "- сколько процентов от ЗП уходит на ипотеку.\n",
    "- сколько процентов от ЗП уходит \"на жизнь\".\n",
    "- сколько раз приходит премия в год.\n",
    "\n",
    "Остальная часть заработанной платы откладывается на пенсию.\n",
    "\n",
    "Также пользователю приходит премия в размере зарплаты, от которой половина уходит на отпуск, а вторая половина откладывается.\n",
    "\n",
    "Программа должна учитывать сколько премий было в год.\n",
    "\n",
    "Нужно вывести сколько денег тратит пользователь на ипотеку и сколько он накопит за год.\n",
    "\n",
    "Пример:\n",
    "\n",
    "Введите заработанную плату в месяц: 100000\n",
    "\n",
    "Введите сколько процентов уходит на ипотеку: 30\n",
    "\n",
    "Введите сколько процентов уходит на жизнь: 50\n",
    "\n",
    "Введите количество премий за год: 2\n",
    "\n",
    "Вывод:\n",
    "На ипотеку было потрачено: 360000 рублей\n",
    "Было накоплено: 340000 рублей"
   ]
  },
  {
   "cell_type": "code",
   "execution_count": 12,
   "metadata": {},
   "outputs": [
    {
     "name": "stdout",
     "output_type": "stream",
     "text": [
      "Введите заработанную плату в месяц:100000\n",
      "Введите сколько процентов уходит на ипотеку:30\n",
      "Введите сколько процентов уходит на жизнь:50\n",
      "Введите количество премий за год:2\n",
      "На ипотеку было потрачено: 360000.0 рублей. Было накоплено: 340000.0 рублей.\n"
     ]
    }
   ],
   "source": [
    "wage = int(input('Введите заработанную плату в месяц:'))\n",
    "mortgage = int(input('Введите сколько процентов уходит на ипотеку:'))\n",
    "expenses = int(input('Введите сколько процентов уходит на жизнь:'))\n",
    "premium = int(input('Введите количество премий за год:'))\n",
    "if wage > 0 and mortgage >= 0 and expenses >= 0 and premium >= 0: \n",
    "    mortgage_amount = (wage/100*mortgage)*12\n",
    "    pension = (wage/100*(100-mortgage-expenses))*12+(wage*premium/2)\n",
    "    print('На ипотеку было потрачено:',mortgage_amount,'рублей. Было накоплено:',pension,'рублей.')\n",
    "else:\n",
    "    print('Пожалуйста, введите корректные данные')"
   ]
  },
  {
   "cell_type": "code",
   "execution_count": null,
   "metadata": {},
   "outputs": [],
   "source": []
  }
 ],
 "metadata": {
  "kernelspec": {
   "display_name": "Python 3",
   "language": "python",
   "name": "python3"
  },
  "language_info": {
   "codemirror_mode": {
    "name": "ipython",
    "version": 3
   },
   "file_extension": ".py",
   "mimetype": "text/x-python",
   "name": "python",
   "nbconvert_exporter": "python",
   "pygments_lexer": "ipython3",
   "version": "3.7.1"
  }
 },
 "nbformat": 4,
 "nbformat_minor": 2
}
